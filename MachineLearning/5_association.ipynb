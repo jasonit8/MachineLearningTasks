{
 "cells": [
  {
   "cell_type": "markdown",
   "metadata": {},
   "source": [
    "# 5. Small Store (1.5 điểm)\n",
    "\n",
    "Cho dữ liệu small_store.csv\n",
    "\n",
    "Yêu cầu: Đọc dữ liệu, chuẩn hóa dữ liệu (nếu cần) và chọn một thuật toán thích hợp trong nhóm Association rule learning để tính toán mức độ kết hợp giữa các item.\n",
    "\n",
    "### Tiền xử lý dữ liệu"
   ]
  },
  {
   "cell_type": "code",
   "execution_count": 1,
   "metadata": {},
   "outputs": [],
   "source": [
    "# thư viện\n",
    "import pandas as pd\n",
    "from collections import defaultdict\n",
    "import matplotlib.pyplot as plt"
   ]
  },
  {
   "cell_type": "code",
   "execution_count": 2,
   "metadata": {},
   "outputs": [
    {
     "name": "stdout",
     "output_type": "stream",
     "text": [
      "Không có dữ liệu Null.\n"
     ]
    }
   ],
   "source": [
    "df = pd.read_csv('small_store.csv')\n",
    "if df.isna().any().any(): # Kiểm tra dữ liệu Null\n",
    "    print('Có dữ liệu Null.')\n",
    "else:\n",
    "    print('Không có dữ liệu Null.')"
   ]
  },
  {
   "cell_type": "code",
   "execution_count": 3,
   "metadata": {},
   "outputs": [
    {
     "name": "stdout",
     "output_type": "stream",
     "text": [
      "Dữ liệu có 82 dòng, 2 cột.\n"
     ]
    }
   ],
   "source": [
    "print('Dữ liệu có {} dòng, {} cột.'.format(df.shape[0],df.shape[1]))"
   ]
  },
  {
   "cell_type": "code",
   "execution_count": 4,
   "metadata": {},
   "outputs": [
    {
     "data": {
      "text/html": [
       "<div>\n",
       "<style scoped>\n",
       "    .dataframe tbody tr th:only-of-type {\n",
       "        vertical-align: middle;\n",
       "    }\n",
       "\n",
       "    .dataframe tbody tr th {\n",
       "        vertical-align: top;\n",
       "    }\n",
       "\n",
       "    .dataframe thead th {\n",
       "        text-align: right;\n",
       "    }\n",
       "</style>\n",
       "<table border=\"1\" class=\"dataframe\">\n",
       "  <thead>\n",
       "    <tr style=\"text-align: right;\">\n",
       "      <th></th>\n",
       "      <th>Customer_Id</th>\n",
       "      <th>Products</th>\n",
       "    </tr>\n",
       "  </thead>\n",
       "  <tbody>\n",
       "    <tr>\n",
       "      <td>0</td>\n",
       "      <td>1</td>\n",
       "      <td>bread</td>\n",
       "    </tr>\n",
       "    <tr>\n",
       "      <td>1</td>\n",
       "      <td>1</td>\n",
       "      <td>butter</td>\n",
       "    </tr>\n",
       "    <tr>\n",
       "      <td>2</td>\n",
       "      <td>1</td>\n",
       "      <td>eggs</td>\n",
       "    </tr>\n",
       "    <tr>\n",
       "      <td>3</td>\n",
       "      <td>1</td>\n",
       "      <td>milk</td>\n",
       "    </tr>\n",
       "    <tr>\n",
       "      <td>4</td>\n",
       "      <td>4</td>\n",
       "      <td>buns</td>\n",
       "    </tr>\n",
       "  </tbody>\n",
       "</table>\n",
       "</div>"
      ],
      "text/plain": [
       "   Customer_Id Products\n",
       "0            1    bread\n",
       "1            1   butter\n",
       "2            1     eggs\n",
       "3            1     milk\n",
       "4            4     buns"
      ]
     },
     "execution_count": 4,
     "metadata": {},
     "output_type": "execute_result"
    }
   ],
   "source": [
    "df.head()"
   ]
  },
  {
   "cell_type": "code",
   "execution_count": 5,
   "metadata": {},
   "outputs": [
    {
     "data": {
      "text/html": [
       "<div>\n",
       "<style scoped>\n",
       "    .dataframe tbody tr th:only-of-type {\n",
       "        vertical-align: middle;\n",
       "    }\n",
       "\n",
       "    .dataframe tbody tr th {\n",
       "        vertical-align: top;\n",
       "    }\n",
       "\n",
       "    .dataframe thead th {\n",
       "        text-align: right;\n",
       "    }\n",
       "</style>\n",
       "<table border=\"1\" class=\"dataframe\">\n",
       "  <thead>\n",
       "    <tr style=\"text-align: right;\">\n",
       "      <th></th>\n",
       "      <th>Customer_Id</th>\n",
       "      <th>Products</th>\n",
       "    </tr>\n",
       "  </thead>\n",
       "  <tbody>\n",
       "    <tr>\n",
       "      <td>77</td>\n",
       "      <td>15</td>\n",
       "      <td>cheese</td>\n",
       "    </tr>\n",
       "    <tr>\n",
       "      <td>78</td>\n",
       "      <td>15</td>\n",
       "      <td>chips</td>\n",
       "    </tr>\n",
       "    <tr>\n",
       "      <td>79</td>\n",
       "      <td>15</td>\n",
       "      <td>mayo</td>\n",
       "    </tr>\n",
       "    <tr>\n",
       "      <td>80</td>\n",
       "      <td>15</td>\n",
       "      <td>mustard</td>\n",
       "    </tr>\n",
       "    <tr>\n",
       "      <td>81</td>\n",
       "      <td>15</td>\n",
       "      <td>soda</td>\n",
       "    </tr>\n",
       "  </tbody>\n",
       "</table>\n",
       "</div>"
      ],
      "text/plain": [
       "    Customer_Id Products\n",
       "77           15   cheese\n",
       "78           15    chips\n",
       "79           15     mayo\n",
       "80           15  mustard\n",
       "81           15     soda"
      ]
     },
     "execution_count": 5,
     "metadata": {},
     "output_type": "execute_result"
    }
   ],
   "source": [
    "df.tail()"
   ]
  },
  {
   "cell_type": "code",
   "execution_count": 6,
   "metadata": {},
   "outputs": [
    {
     "name": "stdout",
     "output_type": "stream",
     "text": [
      "Thông tin dữ liệu.\n",
      "<class 'pandas.core.frame.DataFrame'>\n",
      "RangeIndex: 82 entries, 0 to 81\n",
      "Data columns (total 2 columns):\n",
      "Customer_Id    82 non-null int64\n",
      "Products       82 non-null object\n",
      "dtypes: int64(1), object(1)\n",
      "memory usage: 1.0+ KB\n"
     ]
    }
   ],
   "source": [
    "print('Thông tin dữ liệu.')\n",
    "df.info()"
   ]
  },
  {
   "cell_type": "markdown",
   "metadata": {},
   "source": [
    "### 1. Áp dụng thuật toán (tự lựa chọn các tham số phù hợp cho thuật toán). In kết quả."
   ]
  },
  {
   "cell_type": "markdown",
   "metadata": {},
   "source": [
    "Vì dữ liệu nhỏ nên sử dụng ECLAT."
   ]
  },
  {
   "cell_type": "code",
   "execution_count": 7,
   "metadata": {},
   "outputs": [],
   "source": [
    "# source: https://gist.github.com/evertheylen/ece1e3494c233e17d04be0f8a23dd464\n",
    "def tidlists(transactions):\n",
    "    tl = defaultdict(set)\n",
    "    for tid, t in enumerate(transactions):\n",
    "        for item in t:\n",
    "            tl[item].add(tid)\n",
    "    return list(tl.items())\n",
    "\n",
    "class IntersectAll:\n",
    "    def __and__(self, other):\n",
    "        return other\n",
    "IntersectAll = IntersectAll()\n",
    "\n",
    "def eclat(items, minsup=0, minlen=1):\n",
    "    frequent_itemsets = {(): IntersectAll}\n",
    "    def recurse(items, prefix):\n",
    "        while len(items) > 0:\n",
    "            item, item_tidlist = items.pop()\n",
    "            l = prefix + (item,)  # l is the (ordered) tuple of items we are looking for\n",
    "            new_tidlist = frequent_itemsets[prefix] & item_tidlist\n",
    "            if len(new_tidlist) >= minsup:  # add frequent_itemsets to the new frequent_itemsets\n",
    "                frequent_itemsets[l] = new_tidlist\n",
    "            \n",
    "            # define the new l-conditional database\n",
    "            new_items = []\n",
    "            for new_item, _item_tidlist in items:\n",
    "                new_item_tidlist = _item_tidlist & item_tidlist\n",
    "                if len(new_item_tidlist) >= minsup:\n",
    "                    new_items.append((new_item, new_item_tidlist))\n",
    "            \n",
    "            # recurse, with l as prefix\n",
    "            recurse(new_items, l)\n",
    "    \n",
    "    recurse(items.copy(), ())\n",
    "    return {k: len(v) for k, v in frequent_itemsets.items() if len(k) >= minlen}"
   ]
  },
  {
   "cell_type": "code",
   "execution_count": 8,
   "metadata": {
    "scrolled": false
   },
   "outputs": [
    {
     "data": {
      "text/plain": [
       "[['bread', 'butter', 'eggs', 'milk'],\n",
       " ['beer', 'bread', 'cheese', 'chips', 'mayo', 'soda'],\n",
       " ['banana', 'bread', 'butter', 'cheese', 'oranges'],\n",
       " ['buns', 'chips', 'beer', 'mustard', 'soda'],\n",
       " ['buns', 'chips', 'beer', 'mustard', 'pickels', 'soda'],\n",
       " ['bread', 'butter', 'chocolate', 'eggs', 'milk'],\n",
       " ['banana', 'chocolate', 'eggs', 'milk', 'oranges'],\n",
       " ['beer',\n",
       "  'bread',\n",
       "  'buns',\n",
       "  'cheese',\n",
       "  'chips',\n",
       "  'chocolate',\n",
       "  'mayo',\n",
       "  'mustard',\n",
       "  'soda'],\n",
       " ['banana', 'beer', 'bread', 'cheese', 'milk', 'oranges', 'soda'],\n",
       " ['bread', 'butter', 'chocolate', 'eggs', 'milk'],\n",
       " ['banana', 'chips', 'soda'],\n",
       " ['bread', 'butter', 'eggs', 'milk', 'oranges'],\n",
       " ['banana', 'beer', 'bread', 'cheese', 'butter', 'mustard'],\n",
       " ['bread', 'butter', 'eggs', 'milk'],\n",
       " ['beer', 'bread', 'cheese', 'chips', 'mayo', 'mustard', 'soda']]"
      ]
     },
     "execution_count": 8,
     "metadata": {},
     "output_type": "execute_result"
    }
   ],
   "source": [
    "items = []\n",
    "for i in range(df.Customer_Id.max()):\n",
    "    items += [[]]\n",
    "for i in range(df.shape[0]):\n",
    "    items[df.Customer_Id[i]-1] += [df.Products[i]]\n",
    "items"
   ]
  },
  {
   "cell_type": "code",
   "execution_count": 9,
   "metadata": {},
   "outputs": [
    {
     "data": {
      "text/plain": [
       "[('bread', {0, 1, 2, 5, 7, 8, 9, 11, 12, 13, 14}),\n",
       " ('butter', {0, 2, 5, 9, 11, 12, 13}),\n",
       " ('eggs', {0, 5, 6, 9, 11, 13}),\n",
       " ('milk', {0, 5, 6, 8, 9, 11, 13}),\n",
       " ('beer', {1, 3, 4, 7, 8, 12, 14}),\n",
       " ('cheese', {1, 2, 7, 8, 12, 14}),\n",
       " ('chips', {1, 3, 4, 7, 10, 14}),\n",
       " ('mayo', {1, 7, 14}),\n",
       " ('soda', {1, 3, 4, 7, 8, 10, 14}),\n",
       " ('banana', {2, 6, 8, 10, 12}),\n",
       " ('oranges', {2, 6, 8, 11}),\n",
       " ('buns', {3, 4, 7}),\n",
       " ('mustard', {3, 4, 7, 12, 14}),\n",
       " ('pickels', {4}),\n",
       " ('chocolate', {5, 6, 7, 9})]"
      ]
     },
     "execution_count": 9,
     "metadata": {},
     "output_type": "execute_result"
    }
   ],
   "source": [
    "tl = tidlists(items)\n",
    "tl"
   ]
  },
  {
   "cell_type": "code",
   "execution_count": 10,
   "metadata": {
    "scrolled": false
   },
   "outputs": [
    {
     "name": "stdout",
     "output_type": "stream",
     "text": [
      "('chocolate', 'milk') 3\n",
      "('chocolate', 'milk', 'eggs') 3\n",
      "('chocolate', 'eggs') 3\n",
      "('chocolate', 'bread') 3\n",
      "('mustard', 'buns') 3\n"
     ]
    }
   ],
   "source": [
    "model = eclat(tl,3,2)\n",
    "for i in list(model)[:5]:\n",
    "    print(i, model[i])"
   ]
  },
  {
   "cell_type": "markdown",
   "metadata": {},
   "source": [
    "### 2. Tìm kiếm thông tin từ kết quả: trong thông tin kết quả có 'soda' không? Nếu có thì 'soda' kết hợp với item nào?"
   ]
  },
  {
   "cell_type": "code",
   "execution_count": 11,
   "metadata": {},
   "outputs": [
    {
     "name": "stdout",
     "output_type": "stream",
     "text": [
      "(('mustard', 'buns', 'soda'), 3)\n",
      "(('mustard', 'buns', 'soda', 'chips'), 3)\n",
      "(('mustard', 'buns', 'soda', 'chips', 'beer'), 3)\n",
      "(('mustard', 'buns', 'soda', 'beer'), 3)\n",
      "(('mustard', 'soda'), 4)\n",
      "(('mustard', 'soda', 'chips'), 4)\n",
      "(('mustard', 'soda', 'chips', 'beer'), 4)\n",
      "(('mustard', 'soda', 'beer'), 4)\n",
      "(('buns', 'soda'), 3)\n",
      "(('buns', 'soda', 'chips'), 3)\n",
      "(('buns', 'soda', 'chips', 'beer'), 3)\n",
      "(('buns', 'soda', 'beer'), 3)\n",
      "(('soda', 'mayo'), 3)\n",
      "(('soda', 'mayo', 'chips'), 3)\n",
      "(('soda', 'mayo', 'chips', 'cheese'), 3)\n",
      "(('soda', 'mayo', 'chips', 'cheese', 'beer'), 3)\n",
      "(('soda', 'mayo', 'chips', 'cheese', 'beer', 'bread'), 3)\n",
      "(('soda', 'mayo', 'chips', 'cheese', 'bread'), 3)\n",
      "(('soda', 'mayo', 'chips', 'beer'), 3)\n",
      "(('soda', 'mayo', 'chips', 'beer', 'bread'), 3)\n",
      "(('soda', 'mayo', 'chips', 'bread'), 3)\n",
      "(('soda', 'mayo', 'cheese'), 3)\n",
      "(('soda', 'mayo', 'cheese', 'beer'), 3)\n",
      "(('soda', 'mayo', 'cheese', 'beer', 'bread'), 3)\n",
      "(('soda', 'mayo', 'cheese', 'bread'), 3)\n",
      "(('soda', 'mayo', 'beer'), 3)\n",
      "(('soda', 'mayo', 'beer', 'bread'), 3)\n",
      "(('soda', 'mayo', 'bread'), 3)\n",
      "(('soda', 'chips'), 6)\n",
      "(('soda', 'chips', 'cheese'), 3)\n",
      "(('soda', 'chips', 'cheese', 'beer'), 3)\n",
      "(('soda', 'chips', 'cheese', 'beer', 'bread'), 3)\n",
      "(('soda', 'chips', 'cheese', 'bread'), 3)\n",
      "(('soda', 'chips', 'beer'), 5)\n",
      "(('soda', 'chips', 'beer', 'bread'), 3)\n",
      "(('soda', 'chips', 'bread'), 3)\n",
      "(('soda', 'cheese'), 4)\n",
      "(('soda', 'cheese', 'beer'), 4)\n",
      "(('soda', 'cheese', 'beer', 'bread'), 4)\n",
      "(('soda', 'cheese', 'bread'), 4)\n",
      "(('soda', 'beer'), 6)\n",
      "(('soda', 'beer', 'bread'), 4)\n",
      "(('soda', 'bread'), 4)\n"
     ]
    }
   ],
   "source": [
    "for i in model.items():\n",
    "    if 'soda' in i[0]:\n",
    "        print(i)"
   ]
  },
  {
   "cell_type": "markdown",
   "metadata": {},
   "source": [
    "### 3. Cho biết 3 sản phẩm được mua nhiều nhất. Vẽ biểu đồ."
   ]
  },
  {
   "cell_type": "markdown",
   "metadata": {},
   "source": [
    "3 sản phẩm được mua nhiều nhất:"
   ]
  },
  {
   "cell_type": "code",
   "execution_count": 12,
   "metadata": {},
   "outputs": [
    {
     "name": "stdout",
     "output_type": "stream",
     "text": [
      "3 sản phẩm được mua nhiều nhất là ['bread', 'butter', 'milk'].\n"
     ]
    }
   ],
   "source": [
    "top3 = []\n",
    "tl2 = tl.copy()\n",
    "while len(top3) < 3:\n",
    "    bestbuy = 0\n",
    "    bestitem = ''\n",
    "    r = ()\n",
    "    for i in tl2:\n",
    "        if len(i[1]) > bestbuy:\n",
    "            bestbuy = len(i[1])\n",
    "            bestitem = i[0]\n",
    "            r = i\n",
    "    top3 += [bestitem]\n",
    "    tl2.remove(r)\n",
    "print('3 sản phẩm được mua nhiều nhất là {}.'.format(top3))"
   ]
  },
  {
   "cell_type": "markdown",
   "metadata": {},
   "source": [
    "Biểu đồ:"
   ]
  },
  {
   "cell_type": "code",
   "execution_count": 13,
   "metadata": {},
   "outputs": [
    {
     "data": {
      "image/png": "[encoded data removed]",
      "text/plain": [
       "<Figure size 360x720 with 1 Axes>"
      ]
     },
     "metadata": {
      "needs_background": "light"
     },
     "output_type": "display_data"
    }
   ],
   "source": [
    "x, y = [], []\n",
    "for i in tl:\n",
    "    x += [i[0]]\n",
    "    y += [len(i[1])]\n",
    "plt.figure(figsize=(5,10))\n",
    "for i in range(len(x)):\n",
    "    plt.barh(x[i],y[i])\n",
    "plt.show()"
   ]
  },
  {
   "cell_type": "markdown",
   "metadata": {},
   "source": [
    "3 sản phẩm được mua phối hợp nhiều nhất:"
   ]
  },
  {
   "cell_type": "code",
   "execution_count": 14,
   "metadata": {},
   "outputs": [
    {
     "name": "stdout",
     "output_type": "stream",
     "text": [
      "3 sản phẩm được mua phối hợp nhiều nhất là ('soda', 'chips', 'beer').\n"
     ]
    }
   ],
   "source": [
    "bestbuy = 0\n",
    "bestcombo = ''\n",
    "for i in model.items():\n",
    "    if (len(i[0]) == 3) and (i[1] > bestbuy):\n",
    "        bestbuy = i[1]\n",
    "        bestcombo = i[0]\n",
    "print('3 sản phẩm được mua phối hợp nhiều nhất là {}.'.format(bestcombo))"
   ]
  },
  {
   "cell_type": "code",
   "execution_count": 15,
   "metadata": {},
   "outputs": [
    {
     "data": {
      "image/png": "[encoded data removed]",
      "text/plain": [
       "<Figure size 360x1440 with 1 Axes>"
      ]
     },
     "metadata": {
      "needs_background": "light"
     },
     "output_type": "display_data"
    }
   ],
   "source": [
    "x, y = [], []\n",
    "for i in model.items():\n",
    "    if (len(i[0]) == 3):\n",
    "        x += [str(i[0])]\n",
    "        y += [i[1]]\n",
    "plt.figure(figsize=(5,20))\n",
    "for i in range(len(x)):\n",
    "    plt.barh(x[i],y[i])\n",
    "plt.show()"
   ]
  }
 ],
 "metadata": {
  "kernelspec": {
   "display_name": "Python 3",
   "language": "python",
   "name": "python3"
  },
  "language_info": {
   "codemirror_mode": {
    "name": "ipython",
    "version": 3
   },
   "file_extension": ".py",
   "mimetype": "text/x-python",
   "name": "python",
   "nbconvert_exporter": "python",
   "pygments_lexer": "ipython3",
   "version": "3.7.3"
  }
 },
 "nbformat": 4,
 "nbformat_minor": 2
}
